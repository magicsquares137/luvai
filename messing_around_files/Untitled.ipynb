{
 "cells": [
  {
   "cell_type": "code",
   "execution_count": 1,
   "id": "9450667f",
   "metadata": {},
   "outputs": [],
   "source": [
    "import numpy as np\n",
    "import torch \n",
    "import torch.nn as nn\n",
    "import torch.optim as optim \n",
    "\n",
    "gamma = 0.99\n",
    "layer_width = 64\n",
    "\n",
    "class Pi(nn.Module):\n",
    "\tdef __init__(self, in_dim, out_dim):\n",
    "\t\tsuper(Pi, self).__init__()\n",
    "\t\tself.model = nn.Sequential(\n",
    "\t\t\tnn.Linear(in_dim, 64),\n",
    "\t\t\tnn.ReLU(),\n",
    "\t\t\tnn.Linear(64, out_dim)\n",
    "\t\t)\n",
    "\n",
    "\t\t# Method to reset logs and reward trackers\n",
    "\t\tself.onpolicy_reset()\n",
    "\n",
    "\tdef onpolicy_reset(self):\n",
    "\t\tself.log_probs = []\n",
    "\t\tself.rewards = []\n",
    "\n",
    "\tdef forward(self, x):\n",
    "\t\treturn self.model(x)\n",
    "\n",
    "\tdef act(self, state):\n",
    "\t\t# Get the tensor\n",
    "\t\tx = torch.from_numpy(state.astype(np.float32))\n",
    "\n",
    "\t\tpdparam = self.forward(x)\n",
    "\t\tpd = Categorical(logits=pdparam)\n",
    "\n",
    "\t\taction = pd.sample()\n",
    "\t\tlog_prob = pd.log_prob(action)\n",
    "\t\tself.log_probs.append(log_prob)\n",
    "\t\treturn action.item()\n",
    "\n"
   ]
  },
  {
   "cell_type": "code",
   "execution_count": 6,
   "id": "f96fecd2",
   "metadata": {},
   "outputs": [],
   "source": [
    "obj = Pi(in_dim = 3, out_dim = 4)"
   ]
  },
  {
   "cell_type": "code",
   "execution_count": 7,
   "id": "9f265767",
   "metadata": {},
   "outputs": [
    {
     "name": "stdout",
     "output_type": "stream",
     "text": [
      "Requirement already satisfied: gymnasium in /mnt/newssd/luvai/luvai/env/lib/python3.10/site-packages (1.1.1)\n",
      "Requirement already satisfied: farama-notifications>=0.0.1 in /mnt/newssd/luvai/luvai/env/lib/python3.10/site-packages (from gymnasium) (0.0.4)\n",
      "Requirement already satisfied: numpy>=1.21.0 in /mnt/newssd/luvai/luvai/env/lib/python3.10/site-packages (from gymnasium) (2.2.4)\n",
      "Requirement already satisfied: typing-extensions>=4.3.0 in /mnt/newssd/luvai/luvai/env/lib/python3.10/site-packages (from gymnasium) (4.13.2)\n",
      "Requirement already satisfied: cloudpickle>=1.2.0 in /mnt/newssd/luvai/luvai/env/lib/python3.10/site-packages (from gymnasium) (3.1.1)\n",
      "\n",
      "\u001b[1m[\u001b[0m\u001b[34;49mnotice\u001b[0m\u001b[1;39;49m]\u001b[0m\u001b[39;49m A new release of pip is available: \u001b[0m\u001b[31;49m23.0.1\u001b[0m\u001b[39;49m -> \u001b[0m\u001b[32;49m25.1.1\u001b[0m\n",
      "\u001b[1m[\u001b[0m\u001b[34;49mnotice\u001b[0m\u001b[1;39;49m]\u001b[0m\u001b[39;49m To update, run: \u001b[0m\u001b[32;49mpip install --upgrade pip\u001b[0m\n"
     ]
    }
   ],
   "source": [
    "!pip install gymnasium"
   ]
  },
  {
   "cell_type": "code",
   "execution_count": 8,
   "id": "008d9b4a",
   "metadata": {},
   "outputs": [
    {
     "ename": "ModuleNotFoundError",
     "evalue": "No module named 'gymnasium'",
     "output_type": "error",
     "traceback": [
      "\u001b[0;31m---------------------------------------------------------------------------\u001b[0m",
      "\u001b[0;31mModuleNotFoundError\u001b[0m                       Traceback (most recent call last)",
      "Cell \u001b[0;32mIn[8], line 1\u001b[0m\n\u001b[0;32m----> 1\u001b[0m \u001b[38;5;28;01mimport\u001b[39;00m \u001b[38;5;21;01mgymnasium\u001b[39;00m \u001b[38;5;28;01mas\u001b[39;00m \u001b[38;5;21;01mgym\u001b[39;00m\n\u001b[1;32m      2\u001b[0m env \u001b[38;5;241m=\u001b[39m gym\u001b[38;5;241m.\u001b[39mmake(\u001b[38;5;124m'\u001b[39m\u001b[38;5;124mCartPole-v1\u001b[39m\u001b[38;5;124m'\u001b[39m)\n",
      "\u001b[0;31mModuleNotFoundError\u001b[0m: No module named 'gymnasium'"
     ]
    }
   ],
   "source": [
    "import gymnasium as gym\n",
    "env = gym.make('CartPole-v1')"
   ]
  },
  {
   "cell_type": "code",
   "execution_count": null,
   "id": "3212ce1b",
   "metadata": {},
   "outputs": [],
   "source": []
  },
  {
   "cell_type": "code",
   "execution_count": null,
   "id": "1593f68c",
   "metadata": {},
   "outputs": [],
   "source": []
  }
 ],
 "metadata": {
  "kernelspec": {
   "display_name": "Python 3 (ipykernel)",
   "language": "python",
   "name": "python3"
  },
  "language_info": {
   "codemirror_mode": {
    "name": "ipython",
    "version": 3
   },
   "file_extension": ".py",
   "mimetype": "text/x-python",
   "name": "python",
   "nbconvert_exporter": "python",
   "pygments_lexer": "ipython3",
   "version": "3.8.18"
  }
 },
 "nbformat": 4,
 "nbformat_minor": 5
}
